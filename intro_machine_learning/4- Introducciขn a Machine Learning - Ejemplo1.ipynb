{
 "cells": [
  {
   "cell_type": "markdown",
   "source": [
    "## Introducción a Machine Learning - Ejemplo 1"
   ],
   "metadata": {}
  },
  {
   "cell_type": "markdown",
   "source": [
    "### Como puedo enseñarle a mi computador si una imágen es un perro o un cerdo?\n",
    "Cracteristicas (1 => Si, 0 => No)\n",
    " - pelo largo\n",
    " - pierna corta\n",
    " - dice guau"
   ],
   "metadata": {}
  },
  {
   "cell_type": "code",
   "execution_count": 1,
   "source": [
    "cerdo1 = [0, 1, 0]\n",
    "cerdo2 = [0, 1, 1]\n",
    "cerdo3 = [1, 1, 0]\n",
    "\n",
    "perro1 = [0, 1, 1]\n",
    "perro2 = [1, 0, 1]\n",
    "perro3 = [1, 1, 1]\n",
    "\n",
    "animales = [cerdo1, cerdo2, cerdo3, perro1, perro2, perro3]"
   ],
   "outputs": [],
   "metadata": {}
  },
  {
   "cell_type": "code",
   "execution_count": 2,
   "source": [
    "animales"
   ],
   "outputs": [
    {
     "output_type": "execute_result",
     "data": {
      "text/plain": [
       "[[0, 1, 0], [0, 1, 1], [1, 1, 0], [0, 1, 1], [1, 0, 1], [1, 1, 1]]"
      ]
     },
     "metadata": {},
     "execution_count": 2
    }
   ],
   "metadata": {}
  },
  {
   "cell_type": "code",
   "execution_count": 3,
   "source": [
    "clasificacion = [1,1,1,0,0,0] # 0 => perro 1 => cerdo"
   ],
   "outputs": [],
   "metadata": {}
  },
  {
   "cell_type": "markdown",
   "source": [
    "### Lo que queremos es encontrar una función que mapea f(x1,x2,x3]) = 0,1\n",
    "### Una función que recibe un parámetro X y retorna un Y, o sea, f(X) = y"
   ],
   "metadata": {}
  },
  {
   "cell_type": "markdown",
   "source": [
    "### Estimador\n",
    "Necesito un estimador que aprenda este comportamiento. Para eso voy a utilizar la libreria [Scikit learn](https://scikit-learn.org/stable/) que tiene algoritmos de estimacion en python"
   ],
   "metadata": {}
  },
  {
   "cell_type": "code",
   "execution_count": 4,
   "source": [
    "entrenamiento_x = animales\n",
    "entrenamiento_y = clasificacion"
   ],
   "outputs": [],
   "metadata": {}
  },
  {
   "cell_type": "code",
   "execution_count": 5,
   "source": [
    "# usamos un clasificador(estimador) Linear SVC que puede crearnos un modelo con las caracteristicas \n",
    "# de nuestro ejemplo\n",
    "\n",
    "from sklearn.svm import LinearSVC\n",
    "\n",
    "# instancio el modelo\n",
    "modelo = LinearSVC()\n",
    "\n",
    "# adaptar el modelo a las caracteristicas usando \"fit\". \n",
    "# Le digo al modelo que aprenda con las caracteristicas que le proporciono (datos y clases)\n",
    "modelo.fit(entrenamiento_x, entrenamiento_y)"
   ],
   "outputs": [
    {
     "output_type": "execute_result",
     "data": {
      "text/plain": [
       "LinearSVC()"
      ]
     },
     "metadata": {},
     "execution_count": 5
    }
   ],
   "metadata": {}
  },
  {
   "cell_type": "code",
   "execution_count": 6,
   "source": [
    "# testando con un animal que no esta en los datos iniciales\n",
    "animal_misterioso = [1, 1, 1] # Tiene pelo largo, tiene pierna corta y dice guau, que animal es ese?\n",
    "# cual es la opinion de nuestro modelo?\n",
    "# le pedimos a nuestro modelo que intente predecir cual es la clases del animal misterioso\n",
    "modelo.predict([animal_misterioso])"
   ],
   "outputs": [
    {
     "output_type": "execute_result",
     "data": {
      "text/plain": [
       "array([0])"
      ]
     },
     "metadata": {},
     "execution_count": 6
    }
   ],
   "metadata": {}
  },
  {
   "cell_type": "code",
   "execution_count": 7,
   "source": [
    "# Test con varios animales\n",
    "misterio1 = [1,1,1]\n",
    "misterio2 = [1,1,0]\n",
    "misterio3 = [0,1,1]\n",
    "test_x = [misterio1, misterio2, misterio3]\n",
    "modelo.predict(test_x)"
   ],
   "outputs": [
    {
     "output_type": "execute_result",
     "data": {
      "text/plain": [
       "array([0, 1, 0])"
      ]
     },
     "metadata": {},
     "execution_count": 7
    }
   ],
   "metadata": {}
  },
  {
   "cell_type": "code",
   "execution_count": 8,
   "source": [
    "# La prediccion del estimador fue [perro, cerdo, perro]\n",
    "# Pero yo sé que su real clasificacion es [0,1,1] => [perro, cerdo, cerdo]\n",
    "# entonces el algoritmo erró 1 de 3\n",
    "print(1/3*100) # 33%\n",
    "clases = [0,1,1]"
   ],
   "outputs": [
    {
     "output_type": "stream",
     "name": "stdout",
     "text": [
      "33.33333333333333\n"
     ]
    }
   ],
   "metadata": {}
  },
  {
   "cell_type": "markdown",
   "source": [
    "### Validar el modelo\n",
    "Queremos saber la tasa de acierto que nuestro modelo es capaz de realizar"
   ],
   "metadata": {}
  },
  {
   "cell_type": "code",
   "execution_count": 9,
   "source": [
    "previsiones = modelo.predict(test_x)\n",
    "previsiones"
   ],
   "outputs": [
    {
     "output_type": "execute_result",
     "data": {
      "text/plain": [
       "array([0, 1, 0])"
      ]
     },
     "metadata": {},
     "execution_count": 9
    }
   ],
   "metadata": {}
  },
  {
   "cell_type": "code",
   "execution_count": 10,
   "source": [
    "# comparo las previsiones con las clasificacion real\n",
    "previsiones == clases"
   ],
   "outputs": [
    {
     "output_type": "execute_result",
     "data": {
      "text/plain": [
       "array([ True,  True, False])"
      ]
     },
     "metadata": {},
     "execution_count": 10
    }
   ],
   "metadata": {}
  },
  {
   "cell_type": "code",
   "execution_count": 11,
   "source": [
    "# puedo calcular la cantidad de aciertos (True) dividido por el total\n",
    "correctos = (previsiones == clases).sum()\n",
    "total = len(test_x)\n",
    "tasa_de_acierto = correctos / total\n",
    "print(\"Tasa de acierto: \", tasa_de_acierto * 100)"
   ],
   "outputs": [
    {
     "output_type": "stream",
     "name": "stdout",
     "text": [
      "Tasa de acierto:  66.66666666666666\n"
     ]
    }
   ],
   "metadata": {}
  },
  {
   "cell_type": "code",
   "execution_count": 12,
   "source": [
    "# Medir la tasa de acierto (accuracy) usando scilearn\n",
    "from sklearn.metrics import accuracy_score\n",
    "tasa_de_acierto = accuracy_score(clases, previsiones)\n",
    "print(\"Tasa de acierto: %.2f\" % (tasa_de_acierto * 100))"
   ],
   "outputs": [
    {
     "output_type": "stream",
     "name": "stdout",
     "text": [
      "Tasa de acierto: 66.67\n"
     ]
    }
   ],
   "metadata": {}
  },
  {
   "cell_type": "markdown",
   "source": [
    "#### Este resultado es bueno o no?\n",
    "\n",
    "Depende ...\n",
    "\n",
    "Si el 80% de mi conjunto de datos es perro y el 20% es cerdo, lo mínimo que debo esperar es que la tasa de acierto sea de 81%.\n",
    "Por que si es 60%, el modelo es un mal predictor. Sería más fácil decir que todo el mundo es perro."
   ],
   "metadata": {}
  },
  {
   "cell_type": "markdown",
   "source": [
    "#### Padronizando los nombres de variables\n",
    "Un modelo funciona como una función matemática f(x) = y. Entonces llamamos a nuestro modelo f() y pasaremos para él los datos (x). El modelo nos devolverá y, que es, la clase. Para estas variables que estamos usando para entrenar el algoritmo usaremos los nombres train_x y train_y (muchas veces a las clases se le llama *labels*)\n",
    "\n",
    "train_x = [animal1, animal2, animal3]\n",
    "train_y = [1,0,1]\n",
    "\n",
    "Para las variables que usamos para testar el modelo usaremos el nombre test_x y para las clases test_y que son las previsiones\n",
    "\n",
    "test_x = [misterio1, misterio2, misterio3]\n",
    "test_y = [0,1,1]"
   ],
   "metadata": {}
  }
 ],
 "metadata": {
  "kernelspec": {
   "name": "python3",
   "display_name": "Python 3.8.8 64-bit ('base': conda)"
  },
  "language_info": {
   "codemirror_mode": {
    "name": "ipython",
    "version": 3
   },
   "file_extension": ".py",
   "mimetype": "text/x-python",
   "name": "python",
   "nbconvert_exporter": "python",
   "pygments_lexer": "ipython3",
   "version": "3.8.8"
  },
  "interpreter": {
   "hash": "14b35e3166087e396d99c4ace6bc76b3b3fcedadb4d2222e4c8ca5d6ec01b8ba"
  }
 },
 "nbformat": 4,
 "nbformat_minor": 2
}