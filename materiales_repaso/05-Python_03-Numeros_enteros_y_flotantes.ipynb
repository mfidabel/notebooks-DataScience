{
 "cells": [
  {
   "cell_type": "markdown",
   "metadata": {},
   "source": [
    "## Números enteros y flotantes\n",
    "### Aritmética entera\n",
    "\n",
    "Ya conocemos los siguientes operadores que se pueden aplicar a los números: + , - , * y ** . El operador de división / para enteros da un número real de coma flotante (un objeto de tipo float ). La exponenciación ** también devuelve un flotante cuando la potencia es negativa:"
   ]
  },
  {
   "cell_type": "code",
   "execution_count": 1,
   "metadata": {},
   "outputs": [
    {
     "name": "stdout",
     "output_type": "stream",
     "text": [
      "5.666666666666667\n",
      "16\n",
      "0.25\n"
     ]
    }
   ],
   "source": [
    "print(17 / 3)  # da 5.66666666667\n",
    "print(2 ** 4)  # da 16\n",
    "print(2 ** -2) # da 0.25"
   ]
  },
  {
   "cell_type": "markdown",
   "metadata": {},
   "source": [
    "Hay una operación especial para la división entera donde el resto se descarta: // . La operación que produce un resto de dicha división se ve como % . Ambas operaciones siempre producen un objeto de tipo int ."
   ]
  },
  {
   "cell_type": "code",
   "execution_count": 2,
   "metadata": {},
   "outputs": [
    {
     "name": "stdout",
     "output_type": "stream",
     "text": [
      "5.666666666666667\n",
      "5\n",
      "2\n"
     ]
    }
   ],
   "source": [
    "print(17 / 3)   # da 5.66666666667\n",
    "print(17 // 3)  # da 5\n",
    "print(17 % 3)   # da 2"
   ]
  },
  {
   "cell_type": "markdown",
   "metadata": {},
   "source": [
    "### Números de punto flotante\n",
    "\n",
    "Cuando leemos un valor entero, leemos una línea con input() y luego lanzamos una cadena a un entero usando int() . Cuando leemos un número de coma flotante, necesitamos lanzar la cuerda para que flote usando float() :"
   ]
  },
  {
   "cell_type": "code",
   "execution_count": 3,
   "metadata": {},
   "outputs": [
    {
     "name": "stdin",
     "output_type": "stream",
     "text": [
      " 1.0\n"
     ]
    },
    {
     "name": "stdout",
     "output_type": "stream",
     "text": [
      "1.0\n"
     ]
    }
   ],
   "source": [
    "x = float(input())\n",
    "print(x)"
   ]
  },
  {
   "cell_type": "markdown",
   "metadata": {},
   "source": [
    "Los flotadores con un valor absoluto muy grande o muy pequeño se pueden escribir usando una notación científica. Por ejemplo, la distancia desde la Tierra al Sol es 1.496 · 10 11 , o 1.496e11 en Python. La masa de una molécula del agua es 2.99 · 10 -23, o 2.99e-23 en Python.\n",
    "\n",
    "Se pueden lanzar objetos flotantes a objetos int descartando la parte de fracción usando la función int() . Esta función demuestra el llamado redondeo hacia el comportamiento cero :"
   ]
  },
  {
   "cell_type": "code",
   "execution_count": 4,
   "metadata": {},
   "outputs": [
    {
     "name": "stdout",
     "output_type": "stream",
     "text": [
      "1\n",
      "1\n",
      "-1\n",
      "-1\n"
     ]
    }
   ],
   "source": [
    "print(int(1.3))   # da 1\n",
    "print(int(1.7))   # da 1\n",
    "print(int(-1.3))  # da -1\n",
    "print(int(-1.7))  # da -1"
   ]
  },
  {
   "cell_type": "markdown",
   "metadata": {},
   "source": [
    "También hay una función round() que realiza el redondeo habitual:"
   ]
  },
  {
   "cell_type": "code",
   "execution_count": 5,
   "metadata": {},
   "outputs": [
    {
     "name": "stdout",
     "output_type": "stream",
     "text": [
      "1\n",
      "2\n",
      "-1\n",
      "-2\n"
     ]
    }
   ],
   "source": [
    "print(round(1.3))   # da 1\n",
    "print(round(1.7))   # da 2\n",
    "print(round(-1.3))  # da -1\n",
    "print(round(-1.7))  # da -2"
   ]
  },
  {
   "cell_type": "markdown",
   "metadata": {},
   "source": [
    "Los números reales de coma flotante no se pueden representar con precisión exacta debido a limitaciones de hardware. Esto puede conducir a efectos engorrosos. Ver los documentos de Python para los detalles."
   ]
  },
  {
   "cell_type": "code",
   "execution_count": 6,
   "metadata": {},
   "outputs": [
    {
     "name": "stdout",
     "output_type": "stream",
     "text": [
      "0.30000000000000004\n"
     ]
    }
   ],
   "source": [
    "print(0.1 + 0.2)  # da 0.30000000000000004"
   ]
  },
  {
   "cell_type": "markdown",
   "metadata": {},
   "source": [
    "### EJERCICIOS\n",
    "\n",
    "1- Un cupcake cuesta A dólares y B centavos. Determine cuántos dólares y centavos debe pagar por N cupcakes. Un programa obtiene tres números: A, B, N. Debe imprimir dos números: costo total en dólares y centavos."
   ]
  },
  {
   "cell_type": "code",
   "execution_count": 15,
   "metadata": {},
   "outputs": [
    {
     "name": "stdin",
     "output_type": "stream",
     "text": [
      "A 1\n",
      "B 23\n",
      "N 5\n"
     ]
    },
    {
     "name": "stdout",
     "output_type": "stream",
     "text": [
      "Debe pagar 6 dólares con 15 centavos\n"
     ]
    }
   ],
   "source": [
    "A, B, N = input(\"A\"), input(\"B\"), input(\"N\")\n",
    "\n",
    "try:\n",
    "    costo = float(f\"{A}.{B}\") * int(N)\n",
    "    print(f\"Debe pagar {int(costo)} dólares con { int((costo - int(costo)) * 100) } centavos\")\n",
    "except:\n",
    "    print(\"Entrada mala\")"
   ]
  },
  {
   "cell_type": "markdown",
   "metadata": {},
   "source": [
    "2-Un automóvil puede cubrir una distancia de N kilómetros por día. ¿Cuántos días tomará cubrir una ruta de longitud M kilómetros? El programa obtiene dos números: N y M."
   ]
  },
  {
   "cell_type": "code",
   "execution_count": 16,
   "metadata": {},
   "outputs": [
    {
     "name": "stdin",
     "output_type": "stream",
     "text": [
      "N 10\n",
      "M 23\n"
     ]
    },
    {
     "name": "stdout",
     "output_type": "stream",
     "text": [
      "Tomará 2.3 días\n"
     ]
    }
   ],
   "source": [
    "try:\n",
    "    N, M = float(input(\"N\")), float(input(\"M\"))\n",
    "    print(f\"Tomará {M/N} días\")\n",
    "except:\n",
    "    print(\"Entrada mala\")"
   ]
  }
 ],
 "metadata": {
  "kernelspec": {
   "display_name": "Python 3",
   "language": "python",
   "name": "python3"
  },
  "language_info": {
   "codemirror_mode": {
    "name": "ipython",
    "version": 3
   },
   "file_extension": ".py",
   "mimetype": "text/x-python",
   "name": "python",
   "nbconvert_exporter": "python",
   "pygments_lexer": "ipython3",
   "version": "3.8.8"
  }
 },
 "nbformat": 4,
 "nbformat_minor": 4
}
