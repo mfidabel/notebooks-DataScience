{
 "cells": [
  {
   "cell_type": "markdown",
   "metadata": {},
   "source": [
    "## Cadenas de caracteres\n",
    "\n",
    "Se puede leer una cadena de la entrada estándar usando la función ``input()`` o definida en comillas simples o dobles. Dos cadenas se pueden concatenar, y también podemos repetir una cadena n veces multiplicándola por un entero:"
   ]
  },
  {
   "cell_type": "code",
   "execution_count": 1,
   "metadata": {},
   "outputs": [
    {
     "name": "stdout",
     "output_type": "stream",
     "text": [
      ">_< >_< >_< >_< >_< \n"
     ]
    }
   ],
   "source": [
    "print('>_< ' * 5)  "
   ]
  },
  {
   "cell_type": "markdown",
   "metadata": {},
   "source": [
    "Una cadena en Python es una secuencia de caracteres. La función ``len(algun_string)`` devuelve la cantidad de caracteres que hay en una cadena:"
   ]
  },
  {
   "cell_type": "code",
   "execution_count": 2,
   "metadata": {},
   "outputs": [
    {
     "name": "stdout",
     "output_type": "stream",
     "text": [
      "26\n"
     ]
    }
   ],
   "source": [
    "print(len('abcdefghijklmnopqrstuvwxyz')) # 26"
   ]
  },
  {
   "cell_type": "markdown",
   "metadata": {},
   "source": [
    "Cada objeto en Python se puede convertir en cadena usando la función ``str(algun_object)`` . Así que podemos convertir números en cadenas:"
   ]
  },
  {
   "cell_type": "code",
   "execution_count": 3,
   "metadata": {},
   "outputs": [
    {
     "name": "stdout",
     "output_type": "stream",
     "text": [
      "1267650600228229401496703205376\n",
      "31\n"
     ]
    }
   ],
   "source": [
    "s = str(2 ** 100)\n",
    "print(s)  # 1267650600228229401496703205376\n",
    "print(len(s))  # 31"
   ]
  },
  {
   "cell_type": "markdown",
   "metadata": {},
   "source": [
    "### Porción de una cadena: carácter individual\n",
    "\n",
    "Una porción de una cadena dada, un carácter o algún fragmento: subcadena o subsecuencia.\n",
    "\n",
    "Hay tres formas de cortes. La forma más simple de extraer una porción es extraer un solo carácter.\n",
    "\n",
    "``S[i]`` da el carácter i de la cadena. Contamos los caracteres de cadena comenzando desde 0. \n",
    "\n",
    "Es decir, si ``S = 'Hello'`` , ``S[0] == 'H'`` , ``S[1] == 'e'`` , ``S[2] == 'l'`` , ``S[3] == 'l'`` , ``S[4] == 'o'`` .\n",
    "\n",
    "Tenga en cuenta que en Python no hay un tipo separado para los caracteres de la cadena. S[i] también tiene el tipo str, al igual que la cadena fuente.\n",
    "\n",
    "El número i en ``S[i]`` se llama índice .\n",
    "\n",
    "Si especifica un índice negativo, se cuenta desde el final, comenzando con el número -1 . Es decir, ``S[-1] == 'o'`` , ``S[-2] == 'l'`` , ``S[-3] == 'l'`` , ``S[-4] == 'e'`` , ``S[-5] == 'H'`` .\n",
    "\n",
    "Si el índice en el segmento ``S[i]`` es mayor o igual que ``len(S)`` , o menor que ``-len(S)`` , se produce el siguiente error ``IndexError: string index out of range`` ."
   ]
  },
  {
   "cell_type": "markdown",
   "metadata": {},
   "source": [
    "### Porción de una cadena: subcadena\n",
    "\n",
    "Se corta la cadena con dos parámetros\n",
    "\n",
    "``S[a:b]`` devuelve la subcadena de longitud b - a , comenzando con el carácter en el índice a hasta el carácter en el índice b, sin incluir este último. \n",
    "\n",
    "Por ejemplo, ``S[1:4] == 'ell'`` , la misma subcadena se puede obtener usando ``S[-4:-1]`` . Puede mezclar índices positivos y negativos en el mismo corte, por ejemplo, ``S[1:-1]`` es una subcadena sin el primer y el último carácter de la cadena (el corte comienza con el carácter con índice 1 y termina con un índice de -1, sin incluirlo).\n",
    "\n",
    "Los cortes de cadena con dos parámetros nunca causan ``IndexError`` . Por ejemplo, para ``S == 'Hello'`` la porción ``S[1:5]`` devuelve la cadena ``'ello'`` , y el resultado es el mismo incluso si el segundo índice es muy grande, como ``S[1:100]`` .\n",
    "\n",
    "Si omite el segundo parámetro (pero conserva los dos puntos), el corte va al final de la cadena. Por ejemplo, para eliminar el primer carácter de la cadena (su índice es 0), tome la porción ``S[1:]`` . De manera similar, si omite el primer parámetro, Python toma el corte desde el principio de la cadena. Es decir, para eliminar el último carácter de la cadena, puede usar ``S[:-1]`` . La porción ``S[:]`` coincide con la cadena S misma."
   ]
  },
  {
   "cell_type": "markdown",
   "metadata": {},
   "source": [
    "### Inmutabilidad de las cadenas\n",
    "\n",
    "Cualquier porción de una cadena crea una nueva cadena y nunca modifica la original. En Python, las cadenas son inmutables, es decir, no se pueden cambiar como objetos. Solo puede asignar la variable a la nueva cadena, pero la anterior permanece en la memoria.\n",
    "\n",
    "De hecho, en Python no hay variables. Solo están los nombres que están asociados con cualquier objeto. Primero puede asociar un nombre con un objeto, y luego - con otro. ¿Pueden varios nombres asociarse con el mismo objeto?\n",
    "\n",
    "Demostremos eso:"
   ]
  },
  {
   "cell_type": "code",
   "execution_count": null,
   "metadata": {},
   "outputs": [],
   "source": [
    "s = 'Hello'\n",
    "t = s  # s y t apuntan a la misma cadena\n",
    "t = s[2:4]  # ahora t apunta a la nueva cadena &#39;ll&#39;\n",
    "print(s)  # imprime &#39;Hola&#39; como s no se cambia\n",
    "print(t)  # imprime &#39;ll&#39;"
   ]
  },
  {
   "cell_type": "markdown",
   "metadata": {},
   "source": [
    "### Subsecuencia\n",
    "\n",
    "Si especifica un sector con tres parámetros ``S[a:b:d]`` , el tercer parámetro especifica el paso, lo mismo que para la funcion ``range()`` . En este caso, solo se toman los caracteres con el siguiente índice: a + d , a + 2 * d y así sucesivamente, hasta que no se incluya el carácter con el índice b. Si el tercer parámetro es igual a 2, el corte toma cada segundo carácter, y si el paso del corte es igual a -1, los caracteres van en orden inverso. Por ejemplo, puede invertir una cadena como esta: ``S[::-1]`` . \n",
    "Veamos los ejemplos:"
   ]
  },
  {
   "cell_type": "code",
   "execution_count": null,
   "metadata": {},
   "outputs": [],
   "source": [
    "s = 'abcdefg'\n",
    "print(s[1])\n",
    "print(s[-1])\n",
    "print(s[1:3])\n",
    "print(s[1:-1])\n",
    "print(s[:3])\n",
    "print(s[2:])\n",
    "print(s[:-1])\n",
    "print(s[::2])\n",
    "print(s[1::2])\n",
    "print(s[::-1])"
   ]
  },
  {
   "cell_type": "markdown",
   "metadata": {},
   "source": [
    "Observe cómo el tercer parámetro del segmento es similar al tercer parámetro del ``range()``:"
   ]
  },
  {
   "cell_type": "code",
   "execution_count": null,
   "metadata": {},
   "outputs": [],
   "source": [
    "s = 'abcdefghijklm'\n",
    "print(s[0:10:2])\n",
    "for i in range(0, 10, 2):\n",
    "    print(i, s[i])"
   ]
  },
  {
   "cell_type": "markdown",
   "metadata": {},
   "source": [
    "### Métodos del objeto string: ``find()`` y ``rfind()``\n",
    "\n",
    "Un método es una función que está vinculada al objeto. Cuando se llama al método, el método se aplica al objeto y realiza algunos cálculos relacionados con él. Los métodos se invocan como ``object_name.method_name(arguments)`` . Por ejemplo, en ``s.find(\"e\")`` el método de cadena ``find()`` se aplica a la cadena s con un argumento \"e\" .\n",
    "\n",
    "El método ``find()`` busca una subcadena, pasada como un argumento, dentro de la cadena a la que se llama. La función devuelve el índice de la primera aparición de la subcadena. Si no se encuentra la subcadena, el método devuelve -1."
   ]
  },
  {
   "cell_type": "code",
   "execution_count": null,
   "metadata": {},
   "outputs": [],
   "source": [
    "s = 'Hello'\n",
    "print(s.find('e'))\n",
    "# 1\n",
    "print(s.find('ll'))\n",
    "# 2\n",
    "print(s.find('L'))\n",
    "# -1"
   ]
  },
  {
   "cell_type": "markdown",
   "metadata": {},
   "source": [
    "De forma similar, el método ``rfind()`` devuelve el índice de la última aparición de la subcadena."
   ]
  },
  {
   "cell_type": "code",
   "execution_count": null,
   "metadata": {},
   "outputs": [],
   "source": [
    "s = 'abracadabra'\n",
    "print(s.find('b'))\n",
    "# 1\n",
    "print(s.rfind('b'))\n",
    "# 8"
   ]
  },
  {
   "cell_type": "markdown",
   "metadata": {},
   "source": [
    "Si llama a ``find()`` con tres argumentos como a continuación ``s.find(substring, left, right)`` , la búsqueda se realiza dentro de la porción ``s[left:right]`` . Si especifica solo dos argumentos, como ``s.find(substring, left)`` , la búsqueda se realiza en la porción ``s[left:]`` , es decir, comenzando con el carácter en el índice 'left' hasta el final de la cadena. El método ``s.find(substring, left, right)`` devuelve el índice absoluto, relativo a toda la cadena s , y no la porción."
   ]
  },
  {
   "cell_type": "code",
   "execution_count": null,
   "metadata": {},
   "outputs": [],
   "source": [
    "s = 'my name is bond, james bond, okay?'\n",
    "print(s.find('bond'))\n",
    "# 11\n",
    "print(s.find('bond', 12))\n",
    "# 23"
   ]
  },
  {
   "cell_type": "markdown",
   "metadata": {},
   "source": [
    "### Método replace()\n",
    "\n",
    "El método ``replace()`` reemplaza todas las ocurrencias de una subcadena dada por otra. \n",
    "\n",
    "Sintaxis:  ``S.replace(old, new)`` toma la cadena S y reemplaza todas las apariciones de la subcadena 'old' con la subcadena 'new' . Ejemplo:"
   ]
  },
  {
   "cell_type": "code",
   "execution_count": null,
   "metadata": {},
   "outputs": [],
   "source": [
    "print('un bar es un bar, esencialmente'.replace('bar', 'pub'))"
   ]
  },
  {
   "cell_type": "markdown",
   "metadata": {},
   "source": [
    "Podemos pasar un tercer argumentos, así: ``s.replace(old, new, count)`` . Hace que ``replace()`` reemplace solo las primeras ocurrencias de 'count' y luego se detenga."
   ]
  },
  {
   "cell_type": "code",
   "execution_count": null,
   "metadata": {},
   "outputs": [],
   "source": [
    "print('un bar es un bar, esencialmente'.replace('bar', 'pub', 1))"
   ]
  },
  {
   "cell_type": "markdown",
   "metadata": {},
   "source": [
    "### Método count()\n",
    "\n",
    "Este método cuenta el número de ocurrencias de una cadena dentro de otra cadena. La forma más simple es esta: ``s.count(substring)`` . Solo se tienen en cuenta las ocurrencias no superpuestas:"
   ]
  },
  {
   "cell_type": "code",
   "execution_count": null,
   "metadata": {},
   "outputs": [],
   "source": [
    "print('Abracadabra'.count('a'))\n",
    "# 4\n",
    "print(('aaaaaaaaaa').count('aa'))\n",
    "# 5"
   ]
  },
  {
   "cell_type": "markdown",
   "metadata": {},
   "source": [
    "Si especifica tres parámetros en ``s.count(substring, left, right)`` , el recuento se realiza dentro de la porción ``s[left:right]`` ."
   ]
  },
  {
   "cell_type": "markdown",
   "metadata": {},
   "source": [
    "### EJERCICIOS"
   ]
  },
  {
   "cell_type": "markdown",
   "metadata": {},
   "source": [
    "1- Dada una cadena de caracteres.\n",
    "\n",
    "- En la primera línea, imprima el tercer carácter de esta cadena.\n",
    "- En la segunda línea, imprima el penúltimo carácter de esta cadena.\n",
    "- En la tercera línea, imprima los primeros cinco caracteres de esta cadena.\n",
    "- En la cuarta línea, imprima todos menos los dos últimos caracteres de esta cadena.\n",
    "- En la quinta línea, imprima todos los caracteres de esta cadena con índices pares (recuerde que la indexación comienza en 0, por lo que los caracteres se muestran comenzando por el primero).\n",
    "- En la sexta línea, imprima todos los caracteres de esta cadena con índices impares (es decir, comenzando con el segundo carácter de la cadena).\n",
    "- En la séptima línea, imprima todos los caracteres de la cadena en orden inverso.\n",
    "- En la octava línea, imprima cada segundo carácter de la cadena en orden inverso, comenzando por el último.\n",
    "- En la novena línea, imprime la longitud de la cadena dada."
   ]
  },
  {
   "cell_type": "code",
   "execution_count": null,
   "metadata": {},
   "outputs": [],
   "source": [
    "A = 'abracadabra'\n",
    "print(A[2])\n",
    "print(A[-2])\n",
    "print(A[:5])\n",
    "print(A[:-2])\n",
    "print(A[::2])\n",
    "print(A[1::2])\n",
    "print(A[-2])"
   ]
  },
  {
   "cell_type": "markdown",
   "metadata": {},
   "source": [
    "2- Dada una cadena que consiste en palabras separadas por espacios. Determine cuántas palabras tiene. Para resolver el problema, use el método count."
   ]
  },
  {
   "cell_type": "code",
   "execution_count": null,
   "metadata": {},
   "outputs": [],
   "source": [
    "A = \"Esto es Python\"\n",
    "print(\"La cadena A tiene \", A.count(' ') + 1, \" palabras\")"
   ]
  },
  {
   "cell_type": "markdown",
   "metadata": {},
   "source": [
    "3- Dada una cadena en la que la letra 'c' aparece al menos dos veces, invierta la secuencia de caracteres encerrada entre la primera y la última aparición. Ejemplo: \"comunicación\""
   ]
  },
  {
   "cell_type": "code",
   "execution_count": null,
   "metadata": {},
   "outputs": [],
   "source": [
    "B= \"comunicacion\"\n",
    "B[B.rfind('c')-1:B.find('c'):-1]"
   ]
  },
  {
   "cell_type": "markdown",
   "metadata": {},
   "source": [
    "4- Dada una cadena. Reemplace cada aparición de la letra 'c' por la letra 'C', excepto la primera y la última. Ejemplo: \"comunicación\""
   ]
  },
  {
   "cell_type": "code",
   "execution_count": null,
   "metadata": {},
   "outputs": [],
   "source": [
    "C= \"comunicacion\"\n",
    "C.replace('c', 'C')"
   ]
  }
 ],
 "metadata": {
  "kernelspec": {
   "display_name": "Python 3",
   "language": "python",
   "name": "python3"
  },
  "language_info": {
   "codemirror_mode": {
    "name": "ipython",
    "version": 3
   },
   "file_extension": ".py",
   "mimetype": "text/x-python",
   "name": "python",
   "nbconvert_exporter": "python",
   "pygments_lexer": "ipython3",
   "version": "3.8.8"
  }
 },
 "nbformat": 4,
 "nbformat_minor": 4
}
