{
 "cells": [
  {
   "cell_type": "markdown",
   "metadata": {},
   "source": [
    "# Clase1-Introducción a Python"
   ]
  },
  {
   "cell_type": "markdown",
   "metadata": {},
   "source": [
    "## Porqué Python?\n",
    "\n",
    "Python ha surgido en las últimas dos décadas como una herramienta de primera clase para tareas de computación científica, incluido el análisis y la visualización de grandes conjuntos de datos.\n",
    "Esto puede haber sido una sorpresa para los primeros defensores del lenguaje Python: el lenguaje en sí no fue diseñado específicamente con el análisis de datos o la computación científica en mente.\n",
    "La utilidad de Python para la ciencia de datos proviene principalmente del ecosistema grande y activo de paquetes de terceros: *NumPy* para la manipulación de datos homogéneos basados en matrices, *Pandas* para la manipulación de datos heterogéneos y etiquetados, *SciPy* para científicos comunes tareas informáticas, *Matplotlib* para visualizaciones con calidad de publicación, *IPython* para ejecución interactiva y uso compartido de código, *Scikit-Learn* para aprendizaje automático y muchas otras herramientas."
   ]
  },
  {
   "cell_type": "markdown",
   "metadata": {},
   "source": [
    "### Python 2 vs Python 3\n",
    "\n",
    "Este curso utiliza la sintaxis de Python 3, que contiene mejoras de lenguaje que no son compatibles con la serie 2.x de Python.\n",
    "Aunque Python 3.0 se lanzó por primera vez en 2008, la adopción ha sido relativamente lenta, particularmente en las comunidades científica y de desarrollo web.\n",
    "Esto se debe principalmente a que muchos de los paquetes y herramientas esenciales de terceros tardaron en ser compatibles con los nuevos idiomas internos.\n",
    "Sin embargo, desde principios de 2014, las versiones estables de las herramientas más importantes en el ecosistema de ciencia de datos han sido totalmente compatibles con Python 2 y 3, por lo que este curso utilizará la sintaxis más reciente de Python 3.\n",
    "Sin embargo, la gran mayoría de los fragmentos de código en este curso también funcionarán sin modificación en Python 2."
   ]
  },
  {
   "cell_type": "markdown",
   "metadata": {},
   "source": [
    "## Contenido del curso\n",
    "\n",
    "Este curso está dividido en 8 clases. A continuación describo con mas detalles el contenido de cada clase\n",
    "\n",
    "- ``Clase 1``: [Introducción a la programación a Python como Lenguaje de programación](03-Python_01-Introducción_a_Python.ipynb)\n",
    "- ``Clase 2``: [Entrada_impresion_y_numeros](04-Python_02-Entrada_impresion_y_numeros.ipynb)\n",
    "- ``Clase 3``: [Números enteros y flotantes](05-Python_03-Numeros_enteros_y_flotantes.ipynb)\n",
    "- ``Clase 4``: [Operaciones_con_String(1)](06-Python_04-Operaciones_con_String.ipynb)\n",
    "- ``Clase 5``: [Operaciones_con_String(2)](07-Python_05-Operaciones_con_strings-continuacion.ipynb)\n",
    "- ``Clase 6``: [Loops_usando_For](08-Python_06-Loops_usando_For.ipynb)\n",
    "- ``Clase 7``: [Loops_usando_While](09-Python_07-loops_usando_while.ipynb)\n",
    "- ``Clase 8``: [Control de Flujo en los programas](10-Python_08-Control_de_flujo_en_programas.ipynb)\n",
    "- ``Clase 9``: [Funciones](11-Python_09-Clase6-Funciones.ipynb)\n",
    "- ``Clase 10``: [Manejando excepciones](12-Python_10-Clase5-Excepciones.ipynb)\n"
   ]
  },
  {
   "cell_type": "markdown",
   "metadata": {},
   "source": [
    "## The Zen of Python\n",
    "\n",
    "Los aficionados a Python suelen señalar rápidamente cuán \"intuitivo\", \"hermoso\" o \"divertido\" es Python. Si bien tiendo a estar de acuerdo, también reconozco que la belleza, la intuición y la diversión a menudo van de la mano con la familiaridad, por lo que para aquellos familiarizados con otros lenguajes de programación, tales sentimientos pueden parecer un poco exagerados. Sin embargo, espero que si le das una oportunidad a Python, verás de dónde provienen esas impresiones. Y si realmente quiere profundizar en la filosofía de programación que impulsa gran parte de la práctica de codificación de los usuarios avanzados de Python, existe una sorpresa oculta en el intérprete de Python: simplemente importe esto:"
   ]
  },
  {
   "cell_type": "code",
   "execution_count": 1,
   "metadata": {},
   "outputs": [
    {
     "name": "stdout",
     "output_type": "stream",
     "text": [
      "The Zen of Python, by Tim Peters\n",
      "\n",
      "Beautiful is better than ugly.\n",
      "Explicit is better than implicit.\n",
      "Simple is better than complex.\n",
      "Complex is better than complicated.\n",
      "Flat is better than nested.\n",
      "Sparse is better than dense.\n",
      "Readability counts.\n",
      "Special cases aren't special enough to break the rules.\n",
      "Although practicality beats purity.\n",
      "Errors should never pass silently.\n",
      "Unless explicitly silenced.\n",
      "In the face of ambiguity, refuse the temptation to guess.\n",
      "There should be one-- and preferably only one --obvious way to do it.\n",
      "Although that way may not be obvious at first unless you're Dutch.\n",
      "Now is better than never.\n",
      "Although never is often better than *right* now.\n",
      "If the implementation is hard to explain, it's a bad idea.\n",
      "If the implementation is easy to explain, it may be a good idea.\n",
      "Namespaces are one honking great idea -- let's do more of those!\n"
     ]
    }
   ],
   "source": [
    "import this"
   ]
  }
 ],
 "metadata": {
  "anaconda-cloud": {},
  "kernelspec": {
   "display_name": "Python 3",
   "language": "python",
   "name": "python3"
  },
  "language_info": {
   "codemirror_mode": {
    "name": "ipython",
    "version": 3
   },
   "file_extension": ".py",
   "mimetype": "text/x-python",
   "name": "python",
   "nbconvert_exporter": "python",
   "pygments_lexer": "ipython3",
   "version": "3.8.8"
  }
 },
 "nbformat": 4,
 "nbformat_minor": 4
}
