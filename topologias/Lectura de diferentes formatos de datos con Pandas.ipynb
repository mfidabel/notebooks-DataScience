{
 "cells": [
  {
   "cell_type": "markdown",
   "metadata": {},
   "source": [
    "## Entrada y Salida de Datos en formatos Heterogeneos"
   ]
  },
  {
   "cell_type": "code",
   "execution_count": null,
   "metadata": {},
   "outputs": [],
   "source": [
    "# Importar la libreía Pandas\n",
    "import pandas as pd"
   ]
  },
  {
   "cell_type": "markdown",
   "metadata": {},
   "source": [
    "Crearemos una conjunto de datos con nombres de alumnos y los cursos a los cuales están matriculados. Para eso colectaremos datos desde la web"
   ]
  },
  {
   "cell_type": "code",
   "execution_count": null,
   "metadata": {},
   "outputs": [],
   "source": [
    "# leyendo datos desde la web, estos datos están en formato json\n",
    "nombres_f = pd.read_json(\"https://servicodados.ibge.gov.br/api/v1/censos/nomes/ranking?qtd=20&sexo=f\")\n",
    "nombres_m = pd.read_json(\"https://servicodados.ibge.gov.br/api/v1/censos/nomes/ranking?qtd=20&sexo=m\")"
   ]
  },
  {
   "cell_type": "code",
   "execution_count": null,
   "metadata": {},
   "outputs": [],
   "source": [
    "# Mostrando el tipo de datos que es DataFrame\n",
    "type(nombres_f)"
   ]
  },
  {
   "cell_type": "code",
   "execution_count": null,
   "metadata": {},
   "outputs": [],
   "source": [
    "# Mostrando la cantidad de nombres en el DataFrame\n",
    "print(\"Cantidad de nombres: \" + str(len(nombres_m) + len(nombres_f)))"
   ]
  },
  {
   "cell_type": "code",
   "execution_count": null,
   "metadata": {},
   "outputs": [],
   "source": [
    "# Otro formato de impresión\n",
    "print(\"Cantidad de nombres: %d\" % (len(nombres_m) + len(nombres_f)))"
   ]
  },
  {
   "cell_type": "code",
   "execution_count": null,
   "metadata": {},
   "outputs": [],
   "source": [
    "# Colocamos en una lista los nombre femeninos y masculinos que colectamos\n",
    "frames = [nombres_f, nombres_m]\n",
    "type(frames)"
   ]
  },
  {
   "cell_type": "code",
   "execution_count": null,
   "metadata": {},
   "outputs": [],
   "source": [
    "# listando los datos \n",
    "frames"
   ]
  },
  {
   "cell_type": "code",
   "execution_count": null,
   "metadata": {},
   "outputs": [],
   "source": [
    "# concatenamos los datos de la lista en un DataFrame\n",
    "pd.concat(frames)"
   ]
  },
  {
   "cell_type": "code",
   "execution_count": null,
   "metadata": {},
   "outputs": [],
   "source": [
    "# Filtramos solamente la columna \"nome\" y actualizamos el DataFrame\n",
    "pd.concat(frames)[\"nome\"].to_frame()"
   ]
  },
  {
   "cell_type": "code",
   "execution_count": null,
   "metadata": {},
   "outputs": [],
   "source": [
    "# guardamos los dato en la variable \"nombres\"\n",
    "nombres = pd.concat(frames)[\"nome\"].to_frame()\n",
    "nombres.sample(5)"
   ]
  },
  {
   "cell_type": "code",
   "execution_count": null,
   "metadata": {},
   "outputs": [],
   "source": [
    "# Renombrar el encabezado para \"nombre\"\n",
    "nombres = nombres.rename(columns={'nome': 'nombre'})\n",
    "print(nombres.columns)"
   ]
  },
  {
   "cell_type": "markdown",
   "metadata": {},
   "source": [
    "## Incluir ID "
   ]
  },
  {
   "cell_type": "code",
   "execution_count": null,
   "metadata": {},
   "outputs": [],
   "source": [
    "# Importamos la librería numpy\n",
    "import numpy as np"
   ]
  },
  {
   "cell_type": "code",
   "execution_count": null,
   "metadata": {},
   "outputs": [],
   "source": [
    "# generar siempre la misma frecuencia de numeros aleatorios\n",
    "np.random.seed(123)"
   ]
  },
  {
   "cell_type": "code",
   "execution_count": null,
   "metadata": {},
   "outputs": [],
   "source": [
    "# mostranso la cantidad de nombres en el DataFrame\n",
    "total_alumnos = len(nombres)\n",
    "total_alumnos"
   ]
  },
  {
   "cell_type": "code",
   "execution_count": null,
   "metadata": {},
   "outputs": [],
   "source": [
    "# Adicionaremos una identificación a los alumnos diferente de su posición en el DataFrame\n",
    "nombres.sample(3)"
   ]
  },
  {
   "cell_type": "code",
   "execution_count": null,
   "metadata": {},
   "outputs": [],
   "source": [
    "# queremos que los ID sean aleatorios de 1 a 40, vamos a crear una nueva columna\n",
    "# La nueva columna recibirá la llamada de np.random.permutation(), una función de Pandas que distribuye números de forma aleatoria. \n",
    "# Para eso, pasaremos como parámetro el total_alumnos y sumaremos 1\n",
    "nombres[\"id_alumno\"] =  np.random.permutation(total_alumnos) + 1\n",
    "nombres.sample(3)"
   ]
  },
  {
   "cell_type": "code",
   "execution_count": null,
   "metadata": {},
   "outputs": [],
   "source": [
    "# mostramos los datos actuales\n",
    "nombres.head(10)"
   ]
  },
  {
   "cell_type": "code",
   "execution_count": null,
   "metadata": {},
   "outputs": [],
   "source": [
    "# Adicionaremos al DataFrame emails, para eso generaremos dominios de emails para luego concaternalos \n",
    "# con los nombres de los alumnos\n",
    "dominios = ['@dominiodeemmail.com.py', '@serviciodeemail.com']"
   ]
  },
  {
   "cell_type": "code",
   "execution_count": null,
   "metadata": {},
   "outputs": [],
   "source": [
    "# usamos la función \"np.random.choice\" para tomar en forma aleatoria el valor de la lista dominios \n",
    "# Adicionamos a una nueva columna que se llama \"dominio\"\n",
    "nombres['dominio'] = np.random.choice(dominios, total_alumnos)"
   ]
  },
  {
   "cell_type": "code",
   "execution_count": null,
   "metadata": {},
   "outputs": [],
   "source": [
    "# Listando el DataFrame\n",
    "nombres.sample(5)"
   ]
  },
  {
   "cell_type": "code",
   "execution_count": null,
   "metadata": {},
   "outputs": [],
   "source": [
    "# concatenamos el dominio con el nombre del alumno y lo adicionamos a una nueva columna que se llama \"email\"\n",
    "nombres['email'] = nombres.nombre.str.cat(nombres.dominio).str.lower()"
   ]
  },
  {
   "cell_type": "code",
   "execution_count": null,
   "metadata": {},
   "outputs": [],
   "source": [
    "# listando una muestra de los datos\n",
    "nombres.sample(5)"
   ]
  },
  {
   "cell_type": "markdown",
   "metadata": {},
   "source": [
    "## Leyendo html"
   ]
  },
  {
   "cell_type": "code",
   "execution_count": null,
   "metadata": {},
   "outputs": [],
   "source": [
    "# Importando la librería para leer datos html\n",
    "import html5lib"
   ]
  },
  {
   "cell_type": "code",
   "execution_count": null,
   "metadata": {},
   "outputs": [],
   "source": [
    "# leemos los datos desde una url donde figuran nombres de los cursos a los que se matricularan los alumnos\n",
    "url = 'http://tabela-cursos.herokuapp.com/index.html'\n",
    "cursos = pd.read_html(url)\n",
    "cursos"
   ]
  },
  {
   "cell_type": "code",
   "execution_count": null,
   "metadata": {},
   "outputs": [],
   "source": [
    "# los datos html son traidos en un formato tipo lista, por lo que extraemos el primer elemento que contiene el DataFrame\n",
    "cursos = cursos[0]"
   ]
  },
  {
   "cell_type": "code",
   "execution_count": null,
   "metadata": {},
   "outputs": [],
   "source": [
    "# mostrando el tipo del elemento que extraimos\n",
    "type(cursos)"
   ]
  },
  {
   "cell_type": "code",
   "execution_count": null,
   "metadata": {},
   "outputs": [],
   "source": [
    "# listando una muestra de los cursos\n",
    "cursos.sample(5)"
   ]
  },
  {
   "cell_type": "code",
   "execution_count": null,
   "metadata": {},
   "outputs": [],
   "source": [
    "# renombramos la columna para 'nombre del curso'\n",
    "cursos = cursos.rename(columns={'Nome do curso': 'nombre del curso'})\n",
    "print(cursos.columns)"
   ]
  },
  {
   "cell_type": "code",
   "execution_count": null,
   "metadata": {},
   "outputs": [],
   "source": [
    "# Crearemos un identificador, ID, para cada curso. Generaremos la columna ID que recibirá el indice\n",
    "cursos['id'] = cursos.index + 1\n",
    "cursos.tail()"
   ]
  },
  {
   "cell_type": "markdown",
   "metadata": {},
   "source": [
    "## Matriculando los alumnos en los cursos"
   ]
  },
  {
   "cell_type": "code",
   "execution_count": null,
   "metadata": {},
   "outputs": [],
   "source": [
    "# Adicionamos la columna 'matriculas' al DataFrame que contendrá la cantidad de cursos al cual el alumno está matriculado\n",
    "# para eso usamos una función que aleatoriamente genera un número entre 0 y total_alumnos\n",
    "nombres['matriculas'] = np.random.exponential(size=total_alumnos).astype(int)\n",
    "nombres.sample(5)"
   ]
  },
  {
   "cell_type": "code",
   "execution_count": null,
   "metadata": {},
   "outputs": [],
   "source": [
    "# Ajustamos las matriculas cuyo valor fue 0, para eso usamos np.ceil, de esa manera todos los alumnos al menos estarán \n",
    "# matriculados a un curso\n",
    "nombres['matriculas'] = np.ceil(np.random.exponential(size=total_alumnos)).astype(int)\n",
    "nombres.sample(5)"
   ]
  },
  {
   "cell_type": "code",
   "execution_count": null,
   "metadata": {},
   "outputs": [],
   "source": [
    "# listamos una muestra del DataFrame\n",
    "nombres.sample(5)"
   ]
  },
  {
   "cell_type": "code",
   "execution_count": null,
   "metadata": {},
   "outputs": [],
   "source": [
    "# aumentaremos el numero de cursos en los cuales los alumnos estan matriculados. \n",
    "# Multiplicamos el resultado obtenido usando el generador de números randómicos por 1.5\n",
    "nombres['matriculas'] = np.ceil(np.random.exponential(size=total_alumnos) * 1.5).astype(int)\n",
    "nombres.sample(5)"
   ]
  },
  {
   "cell_type": "code",
   "execution_count": null,
   "metadata": {},
   "outputs": [],
   "source": [
    "# Describir como quedó la distribución de los datos\n",
    "nombres.matriculas.describe()"
   ]
  },
  {
   "cell_type": "markdown",
   "metadata": {},
   "source": [
    "los alumnos estan inscriptos en al menos 1 curso y el máximo de cursos en que el alumno está inscripto es 5 (este número varía según los datos generados)"
   ]
  },
  {
   "cell_type": "code",
   "execution_count": null,
   "metadata": {},
   "outputs": [],
   "source": [
    "# visualizamos la información en un gráfico\n",
    "# importamos la librería seaborn\n",
    "import seaborn as sns"
   ]
  },
  {
   "cell_type": "code",
   "execution_count": null,
   "metadata": {},
   "outputs": [],
   "source": [
    "# Graficamos la distribución de los datos de la columna matriculas\n",
    "sns.distplot(nombres.matriculas)"
   ]
  },
  {
   "cell_type": "code",
   "execution_count": null,
   "metadata": {},
   "outputs": [],
   "source": [
    "# mostramos el número de alumnos por cada cantidad de cursos matriculados\n",
    "nombres.matriculas.value_counts()"
   ]
  },
  {
   "cell_type": "code",
   "execution_count": null,
   "metadata": {},
   "outputs": [],
   "source": [
    "# value_counts() muestra la cantidad de elementos por cada valor diferente en la columna\n",
    "nombres.dominio.value_counts()"
   ]
  },
  {
   "cell_type": "markdown",
   "metadata": {},
   "source": [
    "## Seleccionando cursos\n",
    "\n",
    "<!-- Ahora crearemos un DataFrame donde podremos vincular las matriculas a los nombres de los cursos  -->"
   ]
  },
  {
   "cell_type": "code",
   "execution_count": null,
   "metadata": {},
   "outputs": [],
   "source": [
    "# listamos una muestra con los datos\n",
    "nombres.sample(5)"
   ]
  },
  {
   "cell_type": "code",
   "execution_count": null,
   "metadata": {},
   "outputs": [],
   "source": [
    "# para hacer esa distribución crearemos un código para asignar los cursos según la matricula\n",
    "todas_matriculas = []\n",
    "x = np.random.rand(20)\n",
    "prob = x / sum(x)"
   ]
  },
  {
   "cell_type": "code",
   "execution_count": null,
   "metadata": {},
   "outputs": [],
   "source": [
    "# el iterador for buscará el index y la linea que se utilizará row.\n",
    "# ese iterador recorrerá el dataframe nombres con el auxilio de función iterrows()\n",
    "# for index, row in nombres.iterrows()\n",
    "\n",
    "# A cada elemento encontrado, almacenaremos el id del alumno, conseguido con row.id_alumno\n",
    "# y la cantidad de matriculas conseguida con row.matriculas\n",
    "for index, row in nombres.iterrows():\n",
    "    id = row.id_alumno\n",
    "    matriculas = row.matriculas\n",
    "    for i in range(matriculas):\n",
    "        mat = [id, np.random.choice(cursos.index, p = prob)]\n",
    "        todas_matriculas.append(mat)"
   ]
  },
  {
   "cell_type": "code",
   "execution_count": null,
   "metadata": {},
   "outputs": [],
   "source": [
    "# Creamos el DataFrame que se llamará matriculas y contendrá los datos de id del alumno y el id del curso\n",
    "matriculas = pd.DataFrame(todas_matriculas, columns = ['id_alumno', 'id_curso'])\n",
    "matriculas.head(5)"
   ]
  },
  {
   "cell_type": "code",
   "execution_count": null,
   "metadata": {},
   "outputs": [],
   "source": [
    "# podemos usar comandos, como en SQL, para realizar consultas con los datos\n",
    "matriculas.groupby('id_curso').count().join(cursos['nombre del curso'])"
   ]
  },
  {
   "cell_type": "code",
   "execution_count": null,
   "metadata": {},
   "outputs": [],
   "source": [
    "# Consultando la cantidad de alumnos por curso\n",
    "matriculas.groupby('id_curso').count().join(cursos['nombre del curso']).rename(columns={'id_alumno':'Cantidad_de_alumnos'})"
   ]
  },
  {
   "cell_type": "code",
   "execution_count": null,
   "metadata": {},
   "outputs": [],
   "source": [
    "# listando una muestra del DataFrame nombres\n",
    "nombres.sample(5)"
   ]
  },
  {
   "cell_type": "code",
   "execution_count": null,
   "metadata": {},
   "outputs": [],
   "source": [
    "# listando una muestra del DataFrame cursos\n",
    "cursos.sample(5)"
   ]
  },
  {
   "cell_type": "code",
   "execution_count": null,
   "metadata": {},
   "outputs": [],
   "source": [
    "# listando una muestra del DataFrame matriculas\n",
    "matriculas.sample(5)"
   ]
  },
  {
   "cell_type": "code",
   "execution_count": null,
   "metadata": {},
   "outputs": [],
   "source": [
    "# guardando la consulta sobre cantidad de alumnos por curso en una variable\n",
    "matriculas_por_curso = matriculas.groupby('id_curso').count().join(cursos['nombre del curso']).rename(columns={'id_alumno':'Cantidad_de_alumnos'})"
   ]
  },
  {
   "cell_type": "code",
   "execution_count": null,
   "metadata": {},
   "outputs": [],
   "source": [
    "# visualizando una muestra\n",
    "matriculas_por_curso.sample(5)"
   ]
  },
  {
   "cell_type": "markdown",
   "metadata": {},
   "source": [
    "### Salida en diferentes formatos"
   ]
  },
  {
   "cell_type": "code",
   "execution_count": null,
   "metadata": {},
   "outputs": [],
   "source": [
    "# Exportamos los datos a un archivo csv, se guardara en el directorio actual de trabajo\n",
    "matriculas_por_curso.to_csv('matriculas_por_curso.csv', index=False)"
   ]
  },
  {
   "cell_type": "code",
   "execution_count": null,
   "metadata": {},
   "outputs": [],
   "source": [
    "# podemos leer nuevamente los datos guardados\n",
    "pd.read_csv('matriculas_por_curso.csv')"
   ]
  },
  {
   "cell_type": "code",
   "execution_count": null,
   "metadata": {},
   "outputs": [],
   "source": [
    "# podemos transformar los datos del DataFrame en el formato json\n",
    "matriculas_json = matriculas_por_curso.to_json()\n",
    "matriculas_json"
   ]
  },
  {
   "cell_type": "code",
   "execution_count": null,
   "metadata": {},
   "outputs": [],
   "source": [
    "# podemos transformar los datos del DataFrame en el formato html\n",
    "matriculas_html = matriculas_por_curso.to_html()\n",
    "matriculas_html"
   ]
  },
  {
   "cell_type": "code",
   "execution_count": null,
   "metadata": {},
   "outputs": [],
   "source": [
    "# al imprimir podemos visualizar en forma organizada\n",
    "print(matriculas_html)"
   ]
  },
  {
   "cell_type": "markdown",
   "metadata": {},
   "source": [
    "## Creando la base de datos SQL\n",
    "\n",
    "Usando slqalchemy"
   ]
  },
  {
   "cell_type": "code",
   "execution_count": null,
   "metadata": {},
   "outputs": [],
   "source": [
    "# Instalar la librería en caso que no lo tenga\n",
    "#!pip install sqlalchemy"
   ]
  },
  {
   "cell_type": "code",
   "execution_count": null,
   "metadata": {},
   "outputs": [],
   "source": [
    "# importaremos las siguientes bibliotecas\n",
    "from sqlalchemy import create_engine, MetaData, Table"
   ]
  },
  {
   "cell_type": "markdown",
   "metadata": {},
   "source": [
    "Crearemos el motor (engine) con el camino de la base de datos. SQLite viene nativamente en Colab"
   ]
  },
  {
   "cell_type": "code",
   "execution_count": null,
   "metadata": {},
   "outputs": [],
   "source": [
    "# creamos una variable engine\n",
    "engine = create_engine('sqlite:///:memory:')"
   ]
  },
  {
   "cell_type": "code",
   "execution_count": null,
   "metadata": {},
   "outputs": [],
   "source": [
    "type(engine)"
   ]
  },
  {
   "cell_type": "markdown",
   "metadata": {},
   "source": [
    "Creada la base de datos, necesitamos transformar el dataframe matriculas_por_curso en el formato de la BD usando to_sql()"
   ]
  },
  {
   "cell_type": "code",
   "execution_count": null,
   "metadata": {},
   "outputs": [],
   "source": [
    "# esta función recibe inicialmente dos parametros: una string representando el nombre de la tabla, en este caso matriculas\n",
    "# y la engine\n",
    "matriculas_por_curso.to_sql('matriculas', engine)"
   ]
  },
  {
   "cell_type": "code",
   "execution_count": null,
   "metadata": {},
   "outputs": [],
   "source": [
    "# imprimimos el retorno de la función\n",
    "print(engine.table_names())"
   ]
  },
  {
   "cell_type": "markdown",
   "metadata": {},
   "source": [
    "### Consultas en la BD"
   ]
  },
  {
   "cell_type": "code",
   "execution_count": null,
   "metadata": {},
   "outputs": [],
   "source": [
    "# Obtener todos los cursos con menos de 20 personas matriculadas\n",
    "query = 'select * from matriculas where Cantidad_de_alumnos < 5'"
   ]
  },
  {
   "cell_type": "code",
   "execution_count": null,
   "metadata": {},
   "outputs": [],
   "source": [
    "pd.read_sql(query, engine)"
   ]
  },
  {
   "cell_type": "code",
   "execution_count": null,
   "metadata": {},
   "outputs": [],
   "source": [
    "# otro comando para leer una tabla\n",
    "pd.read_sql_table('matriculas', engine, columns=['nombre del curso', 'Cantidad_de_alumnos'])"
   ]
  },
  {
   "cell_type": "code",
   "execution_count": null,
   "metadata": {},
   "outputs": [],
   "source": [
    "# Atribuir a una variable\n",
    "muchas_matriculas = pd.read_sql_table('matriculas', engine, columns=['nombre del curso', 'Cantidad_de_alumnos'])"
   ]
  },
  {
   "cell_type": "code",
   "execution_count": null,
   "metadata": {},
   "outputs": [],
   "source": [
    "muchas_matriculas"
   ]
  },
  {
   "cell_type": "code",
   "execution_count": null,
   "metadata": {},
   "outputs": [],
   "source": [
    "# Utilizar pandas para realizar consultas\n",
    "muchas_matriculas.query('Cantidad_de_alumnos > 5')"
   ]
  },
  {
   "cell_type": "code",
   "execution_count": null,
   "metadata": {},
   "outputs": [],
   "source": [
    "# Repetir el proceso apenas para cursos con mas de 10 inscriptos y atribuir el resultado a una variable\n",
    "muchas_matriculas = muchas_matriculas.query('Cantidad_de_alumnos > 5')\n",
    "muchas_matriculas"
   ]
  },
  {
   "cell_type": "code",
   "execution_count": null,
   "metadata": {},
   "outputs": [],
   "source": [
    "muchas_matriculas.to_sql('muchas_matriculas', con=engine)"
   ]
  },
  {
   "cell_type": "code",
   "execution_count": null,
   "metadata": {},
   "outputs": [],
   "source": [
    "print(engine.table_names())"
   ]
  }
 ],
 "metadata": {
  "kernelspec": {
   "display_name": "Python 3",
   "language": "python",
   "name": "python3"
  },
  "language_info": {
   "codemirror_mode": {
    "name": "ipython",
    "version": 3
   },
   "file_extension": ".py",
   "mimetype": "text/x-python",
   "name": "python",
   "nbconvert_exporter": "python",
   "pygments_lexer": "ipython3",
   "version": "3.8.8"
  }
 },
 "nbformat": 4,
 "nbformat_minor": 2
}
